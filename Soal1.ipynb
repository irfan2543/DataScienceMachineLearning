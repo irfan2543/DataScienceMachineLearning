{
  "nbformat": 4,
  "nbformat_minor": 0,
  "metadata": {
    "colab": {
      "provenance": [],
      "authorship_tag": "ABX9TyOwT3Mg774XVvC7xnvtHClM",
      "include_colab_link": true
    },
    "kernelspec": {
      "name": "python3",
      "display_name": "Python 3"
    },
    "language_info": {
      "name": "python"
    }
  },
  "cells": [
    {
      "cell_type": "markdown",
      "metadata": {
        "id": "view-in-github",
        "colab_type": "text"
      },
      "source": [
        "<a href=\"https://colab.research.google.com/github/irfan2543/DataScienceMachineLearning/blob/main/Soal1.ipynb\" target=\"_parent\"><img src=\"https://colab.research.google.com/assets/colab-badge.svg\" alt=\"Open In Colab\"/></a>"
      ]
    },
    {
      "cell_type": "code",
      "execution_count": null,
      "metadata": {
        "id": "sHgH4_Bw0EC8"
      },
      "outputs": [],
      "source": [
        "import numpy as np"
      ]
    },
    {
      "cell_type": "code",
      "source": [
        "array_1 = np.array([1,3,5,7,9])"
      ],
      "metadata": {
        "id": "EwJFNzPx0JMn"
      },
      "execution_count": null,
      "outputs": []
    },
    {
      "cell_type": "code",
      "source": [
        "array_a = array_1 * 10"
      ],
      "metadata": {
        "id": "3dUIb4sm0X2H"
      },
      "execution_count": null,
      "outputs": []
    },
    {
      "cell_type": "code",
      "source": [
        "array_b = array_a / 3"
      ],
      "metadata": {
        "id": "LZJfYane0iT8"
      },
      "execution_count": null,
      "outputs": []
    },
    {
      "cell_type": "code",
      "source": [
        "array_2 = [-45, 43, 3, 56, 5]\n",
        "array_c = array_b * array_2"
      ],
      "metadata": {
        "id": "ucFdNevd0igS"
      },
      "execution_count": null,
      "outputs": []
    },
    {
      "cell_type": "code",
      "source": [
        "indexmax = np.argmax(array_c)\n",
        "indexmin = np.argmin(array_c)"
      ],
      "metadata": {
        "id": "XxuDVjJx1Lqn"
      },
      "execution_count": null,
      "outputs": []
    },
    {
      "cell_type": "code",
      "source": [
        "print(array_a)\n",
        "print(array_b)\n",
        "print(array_c)\n",
        "print(\"Index Tertinggi adalah:\",indexmax, \"\\n\" \"Index Terendah adalah:\",indexmin)"
      ],
      "metadata": {
        "colab": {
          "base_uri": "https://localhost:8080/"
        },
        "id": "_LfQGQgC0ioX",
        "outputId": "062507c7-500c-4472-f315-d24cf698876a"
      },
      "execution_count": null,
      "outputs": [
        {
          "output_type": "stream",
          "name": "stdout",
          "text": [
            "[10 30 50 70 90]\n",
            "[ 3.33333333 10.         16.66666667 23.33333333 30.        ]\n",
            "[-150.          430.           50.         1306.66666667  150.        ]\n",
            "Index Tertinggi adalah: 3 \n",
            "Index Terendah adalah: 0\n"
          ]
        }
      ]
    }
  ]
}